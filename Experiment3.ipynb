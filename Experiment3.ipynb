{
  "nbformat": 4,
  "nbformat_minor": 0,
  "metadata": {
    "colab": {
      "provenance": [],
      "include_colab_link": true
    },
    "kernelspec": {
      "name": "python3",
      "display_name": "Python 3"
    },
    "language_info": {
      "name": "python"
    }
  },
  "cells": [
    {
      "cell_type": "markdown",
      "metadata": {
        "id": "view-in-github",
        "colab_type": "text"
      },
      "source": [
        "<a href=\"https://colab.research.google.com/github/armaanrana091/python-/blob/main/Experiment3.ipynb\" target=\"_parent\"><img src=\"https://colab.research.google.com/assets/colab-badge.svg\" alt=\"Open In Colab\"/></a>"
      ]
    },
    {
      "cell_type": "code",
      "execution_count": null,
      "metadata": {
        "colab": {
          "base_uri": "https://localhost:8080/"
        },
        "id": "WL6xiNwrEk8_",
        "outputId": "6b8ff0a2-eaf2-4ceb-f88e-ca093bdb39f8"
      },
      "outputs": [
        {
          "output_type": "stream",
          "name": "stdout",
          "text": [
            "Enter a number: 5677\n",
            "Reversed number: 7765\n"
          ]
        }
      ],
      "source": [
        "def reverse_number(n):\n",
        "    reversed_num = 0\n",
        "    while n > 0:\n",
        "        digit = n % 10\n",
        "        reversed_num = reversed_num * 10 + digit\n",
        "        n //= 10\n",
        "    return reversed_num\n",
        "\n",
        "# Example usage\n",
        "num = int(input(\"Enter a number: \"))\n",
        "print(\"Reversed number:\", reverse_number(num))"
      ]
    },
    {
      "cell_type": "code",
      "source": [
        "num = 2\n",
        "while num <= 100:\n",
        "    print(num, end=\" \")\n",
        "    num += 2"
      ],
      "metadata": {
        "colab": {
          "base_uri": "https://localhost:8080/"
        },
        "id": "6HCa2fMRK1gj",
        "outputId": "e776a0bf-6c6c-4ff5-e1fe-49c259be6769"
      },
      "execution_count": null,
      "outputs": [
        {
          "output_type": "stream",
          "name": "stdout",
          "text": [
            "2 4 6 8 10 12 14 16 18 20 22 24 26 28 30 32 34 36 38 40 42 44 46 48 50 52 54 56 58 60 62 64 66 68 70 72 74 76 78 80 82 84 86 88 90 92 94 96 98 100 "
          ]
        }
      ]
    },
    {
      "cell_type": "code",
      "source": [
        "n = 5\n",
        "\n",
        "\n",
        "for i in range(1, n+1, 2):\n",
        "\n",
        "    print(' ' * ((n - i) // 2), end='')\n",
        "\n",
        "    print('*' * i)\n",
        "\n",
        "\n",
        "for i in range(n-2, 0, -2):\n",
        "\n",
        "    print(' ' * ((n - i) // 2), end='')\n",
        "\n",
        "    print('*' * i)"
      ],
      "metadata": {
        "colab": {
          "base_uri": "https://localhost:8080/"
        },
        "id": "4gASaKFtLnZx",
        "outputId": "ef7a4549-cc5b-4dfc-fcb0-f8c9ee401702"
      },
      "execution_count": null,
      "outputs": [
        {
          "output_type": "stream",
          "name": "stdout",
          "text": [
            "  *\n",
            " ***\n",
            "*****\n",
            " ***\n",
            "  *\n"
          ]
        }
      ]
    }
  ]
}