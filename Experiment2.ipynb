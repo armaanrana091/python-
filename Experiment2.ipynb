{
  "nbformat": 4,
  "nbformat_minor": 0,
  "metadata": {
    "colab": {
      "provenance": [],
      "include_colab_link": true
    },
    "kernelspec": {
      "name": "python3",
      "display_name": "Python 3"
    },
    "language_info": {
      "name": "python"
    }
  },
  "cells": [
    {
      "cell_type": "markdown",
      "metadata": {
        "id": "view-in-github",
        "colab_type": "text"
      },
      "source": [
        "<a href=\"https://colab.research.google.com/github/armaanrana091/python-/blob/main/Experiment2.ipynb\" target=\"_parent\"><img src=\"https://colab.research.google.com/assets/colab-badge.svg\" alt=\"Open In Colab\"/></a>"
      ]
    },
    {
      "cell_type": "code",
      "execution_count": null,
      "metadata": {
        "colab": {
          "base_uri": "https://localhost:8080/"
        },
        "id": "rhVegre7Qo_K",
        "outputId": "058d78ff-8133-4ceb-f2c1-5079293e288d"
      },
      "outputs": [
        {
          "output_type": "stream",
          "name": "stdout",
          "text": [
            "Enter a year: 2024\n",
            "2024 is a leap year.\n"
          ]
        }
      ],
      "source": [
        "year = int(input(\"Enter a year: \"))\n",
        "\n",
        "if year % 4 == 0 and (year % 100 != 0 or year % 400 == 0):\n",
        "    print(f\"{year} is a leap year.\")\n",
        "else:\n",
        "    print(f\"{year} is not a leap year.\")\n"
      ]
    },
    {
      "cell_type": "code",
      "source": [
        "marks = []\n",
        "\n",
        "for i in range(1, 6):\n",
        "    mark = float(input(f\"Enter marks for subject {i}: \"))\n",
        "    marks.append(mark)\n",
        "\n",
        "average = sum(marks) / 5\n",
        "\n",
        "if average >= 90:\n",
        "    grade = \"A\"\n",
        "elif average >= 80:\n",
        "    grade = \"B\"\n",
        "elif average >= 70:\n",
        "    grade = \"C\"\n",
        "elif average >= 60:\n",
        "    grade = \"D\"\n",
        "elif average >= 50:\n",
        "    grade = \"E\"\n",
        "else:\n",
        "    grade = \"F\"\n",
        "\n",
        "print(f\"Your average marks: {average:.2f}\")\n",
        "print(f\"Your grade: {grade}\")"
      ],
      "metadata": {
        "colab": {
          "base_uri": "https://localhost:8080/"
        },
        "id": "ic8lzutSVeIc",
        "outputId": "5e6ef7f8-604a-4add-af36-8b6bb8bf114f"
      },
      "execution_count": null,
      "outputs": [
        {
          "output_type": "stream",
          "name": "stdout",
          "text": [
            "Enter marks for subject 1: 92\n",
            "Enter marks for subject 2: 93\n",
            "Enter marks for subject 3: 94\n",
            "Enter marks for subject 4: 96\n",
            "Enter marks for subject 5: 98\n",
            "Your average marks: 94.60\n",
            "Your grade: A\n"
          ]
        }
      ]
    },
    {
      "cell_type": "code",
      "source": [
        "num = float(input(\"Enter a number: \"))\n",
        "print(f\"The square root of {num} is {num ** 0.5:.2f}\")\n"
      ],
      "metadata": {
        "colab": {
          "base_uri": "https://localhost:8080/"
        },
        "id": "RPm-A5qjWOZc",
        "outputId": "a5ca64ee-e719-424f-9b90-29b1b22d3689"
      },
      "execution_count": null,
      "outputs": [
        {
          "output_type": "stream",
          "name": "stdout",
          "text": [
            "Enter a number: 16\n",
            "The square root of 16.0 is 4.00\n"
          ]
        }
      ]
    },
    {
      "cell_type": "code",
      "source": [
        "a = float(input(\"Enter first number: \"))\n",
        "b = float(input(\"Enter second number: \"))\n",
        "c = float(input(\"Enter third number: \"))\n",
        "\n",
        "largest = max(a, b, c)\n",
        "\n",
        "print(f\"The largest number is {largest}\")\n"
      ],
      "metadata": {
        "colab": {
          "base_uri": "https://localhost:8080/"
        },
        "id": "v6Lpw8yBW7st",
        "outputId": "ffc91699-403a-43a2-ce3b-f77565bd2e16"
      },
      "execution_count": null,
      "outputs": [
        {
          "output_type": "stream",
          "name": "stdout",
          "text": [
            "Enter first number: 3\n",
            "Enter second number: 7\n",
            "Enter third number: 21\n",
            "The largest number is 21.0\n"
          ]
        }
      ]
    },
    {
      "cell_type": "code",
      "source": [
        "num = float(input(\"Enter a number: \"))\n",
        "\n",
        "if num > 0:\n",
        "    print(\"The number is positive.\")\n",
        "elif num < 0:\n",
        "    print(\"The number is negative.\")\n",
        "else:\n",
        "    print(\"The number is zero.\")\n"
      ],
      "metadata": {
        "colab": {
          "base_uri": "https://localhost:8080/"
        },
        "id": "1r0lzxBuXQHj",
        "outputId": "0e61165a-bb3f-45eb-c561-c60457606642"
      },
      "execution_count": null,
      "outputs": [
        {
          "output_type": "stream",
          "name": "stdout",
          "text": [
            "Enter a number: -7\n",
            "The number is negative.\n"
          ]
        }
      ]
    }
  ]
}